{
  "nbformat": 4,
  "nbformat_minor": 0,
  "metadata": {
    "colab": {
      "provenance": []
    },
    "kernelspec": {
      "name": "python3",
      "display_name": "Python 3"
    },
    "language_info": {
      "name": "python"
    }
  },
  "cells": [
    {
      "cell_type": "code",
      "source": [
        "#Chương trình tính tổng 2 số\n",
        "# Nhập số\n",
        "So1 = int(input(\"Nhập số thứ nhất: \"))\n",
        "So2 = int(input(\"Nhập số thứ hai: \"))\n",
        "#Tính tổng\n",
        "Tong = So1 + So2\n",
        "#In kết quả\n",
        "print(\"Tổng hai số là: \", Tong)\n"
      ],
      "metadata": {
        "colab": {
          "base_uri": "https://localhost:8080/"
        },
        "id": "02OdRCUDTOVp",
        "outputId": "865390fe-5bff-495b-deaa-210c697dd246"
      },
      "execution_count": 1,
      "outputs": [
        {
          "output_type": "stream",
          "name": "stdout",
          "text": [
            "Nhập số thứ nhất: 25\n",
            "Nhập số thứ hai: 6\n",
            "Tổng hai số là:  31\n"
          ]
        }
      ]
    },
    {
      "cell_type": "code",
      "execution_count": null,
      "metadata": {
        "id": "qQR-mInvS33W"
      },
      "outputs": [],
      "source": [
        "import sys\n",
        "# Lấy tham số dòng lệnh\n",
        "num1 = int(sys.argv[1])\n",
        "num2 = int(sys.argv[2])\n",
        "#Tính tổng\n",
        "Tong = num1 + num2\n",
        "#In kết quả\n",
        "print(\"Tổng hai số là: \", Tong)"
      ]
    }
  ]
}