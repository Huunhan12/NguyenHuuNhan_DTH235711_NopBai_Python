{
  "nbformat": 4,
  "nbformat_minor": 0,
  "metadata": {
    "colab": {
      "provenance": []
    },
    "kernelspec": {
      "name": "python3",
      "display_name": "Python 3"
    },
    "language_info": {
      "name": "python"
    }
  },
  "cells": [
    {
      "cell_type": "code",
      "execution_count": 1,
      "metadata": {
        "colab": {
          "base_uri": "https://localhost:8080/"
        },
        "id": "_XdGSvwXql0Q",
        "outputId": "a76da6ac-af81-4cce-84ca-6ba44d3e5b95"
      },
      "outputs": [
        {
          "output_type": "stream",
          "name": "stdout",
          "text": [
            "Albert Einstein đã từng nói: không bao giờ mắc sai lầm không bao giờ thử bất kỳ điều gì mới \n"
          ]
        }
      ],
      "source": [
        "print(\"Albert Einstein đã từng nói: không bao giờ mắc sai lầm không bao giờ thử bất kỳ điều gì mới \")"
      ]
    },
    {
      "cell_type": "code",
      "source": [
        "print(\" Viết mã chương trình\")"
      ],
      "metadata": {
        "colab": {
          "base_uri": "https://localhost:8080/"
        },
        "id": "hdC_P2FFra-P",
        "outputId": "fd199b82-a3f2-415e-9f5e-49e98fbc44e9"
      },
      "execution_count": 2,
      "outputs": [
        {
          "output_type": "stream",
          "name": "stdout",
          "text": [
            " Viết mã chương trình\n"
          ]
        }
      ]
    },
    {
      "cell_type": "code",
      "source": [
        "\n",
        "module1_question = 'What is the meaning of Life, the universe and everything?'\n",
        "module1_answer = 42\n",
        "\n",
        "module2_question = 'What is your quest ?'\n",
        "module2_answer = 'To seek the holy grail.'\n",
        "\n",
        "\n",
        "print(module1_question)\n",
        "print(module1_answer)\n",
        "print(module2_question)\n",
        "print(module2_answer)"
      ],
      "metadata": {
        "colab": {
          "base_uri": "https://localhost:8080/"
        },
        "id": "rTfAdUWcrrOh",
        "outputId": "46a9d622-b9f6-49e4-b5dd-3f12c2e4df72"
      },
      "execution_count": 7,
      "outputs": [
        {
          "output_type": "stream",
          "name": "stdout",
          "text": [
            "What is the meaning of Life, the universe and everything?\n",
            "42\n",
            "What is your quest ?\n",
            "To seek the holy grail.\n"
          ]
        }
      ]
    },
    {
      "cell_type": "code",
      "source": [],
      "metadata": {
        "id": "MxJkXzEDuhAQ"
      },
      "execution_count": null,
      "outputs": []
    }
  ]
}