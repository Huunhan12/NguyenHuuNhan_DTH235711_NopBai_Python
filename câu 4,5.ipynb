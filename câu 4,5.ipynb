{
  "nbformat": 4,
  "nbformat_minor": 0,
  "metadata": {
    "colab": {
      "provenance": []
    },
    "kernelspec": {
      "name": "python3",
      "display_name": "Python 3"
    },
    "language_info": {
      "name": "python"
    }
  },
  "cells": [
    {
      "cell_type": "code",
      "source": [
        "print(\"Nguyen Huu Nhan\")"
      ],
      "metadata": {
        "colab": {
          "base_uri": "https://localhost:8080/"
        },
        "id": "MzanKGxRhLKu",
        "outputId": "594dae72-a3d1-4f5d-e85f-1282196ad831"
      },
      "execution_count": 2,
      "outputs": [
        {
          "output_type": "stream",
          "name": "stdout",
          "text": [
            "Nguyen Huu Nhan\n"
          ]
        }
      ]
    },
    {
      "cell_type": "code",
      "execution_count": 1,
      "metadata": {
        "colab": {
          "base_uri": "https://localhost:8080/"
        },
        "id": "GgoT5VEIhAKU",
        "outputId": "3ba1fa8b-1060-4a24-cd60-42089fd50a02"
      },
      "outputs": [
        {
          "output_type": "stream",
          "name": "stdout",
          "text": [
            "chào các bạn !\n"
          ]
        }
      ],
      "source": [
        "print(\"chào các bạn !\")"
      ]
    }
  ]
}